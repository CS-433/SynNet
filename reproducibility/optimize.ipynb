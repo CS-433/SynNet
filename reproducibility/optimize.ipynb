{
 "cells": [
  {
   "cell_type": "markdown",
   "source": [
    "# Optimization\n",
    "This notebook goes through the whole process to use the optimized model and produce the synthesis planning."
   ],
   "metadata": {
    "collapsed": false
   }
  },
  {
   "cell_type": "markdown",
   "source": [
    "## Environment Setup\n",
    "First of all, we need to make sure that the notebook is running in the correct environment.\n",
    "\n",
    "To do that, follow these steps:\n",
    " 1. Create the project's environment\n",
    "    To do that, place yourself in the project's root, and run :\n",
    "    `conda env create -f environment.yml`\n",
    "    This creates a new clean conda environment with the package needed by the project.\n",
    " 2. Activate the environment\n",
    "    On Linux and Mac:\n",
    "    `source activate synnet`\n",
    "    On Windows:\n",
    "    `conda activate synnet`\n",
    " 3. Install the project's module\n",
    "    Now that the environment is activated, we need to install the project as a module.\n",
    "    Place yourself in the project's root and run :\n",
    "    `pip install -e .`\n",
    " 4. Restart Jupyter from the new environment\n",
    "    Now, we can start Jupyter from the environment, that way it has all the dependencies we need. Simply run `jupyter notebook` and open this notebook.\n",
    "\n",
    "To test the setup, run the following cell."
   ],
   "metadata": {
    "collapsed": false
   }
  },
  {
   "cell_type": "code",
   "execution_count": 1,
   "outputs": [
    {
     "name": "stdout",
     "output_type": "stream",
     "text": [
      "The environment is setup correctly\n"
     ]
    }
   ],
   "source": [
    "import sys\n",
    "\n",
    "# Check that the correct conda env is being used\n",
    "if sys.prefix.split(\"\\\\\")[-1] != \"synnet\":\n",
    "    print(\"You are not using the correct conda environment, please follow the instructions above\")\n",
    "else:\n",
    "    try:\n",
    "        import synnet\n",
    "\n",
    "        print(\"The environment is setup correctly\")\n",
    "    except ImportError:\n",
    "        print(\"The module 'synnet' is not installed, please follow the instructions above\")"
   ],
   "metadata": {
    "collapsed": false
   }
  },
  {
   "cell_type": "markdown",
   "source": [
    "## Pre-Processing\n",
    "\n",
    "Now that the conda environment is correctly setup, we can start the preliminary steps to produce the synthesis results.\n",
    "\n",
    "First, let's import some packages, define some constants.\n",
    "Make sure they are correct."
   ],
   "metadata": {
    "collapsed": false
   }
  },
  {
   "cell_type": "code",
   "execution_count": 3,
   "outputs": [],
   "source": [
    "from downloader import *\n",
    "from preprocessor import *\n",
    "from optimize import optimize\n",
    "import random\n",
    "\n",
    "project_root = Path(\"..\")  # Path to the project's root folder\n",
    "cpu_cores = 6  # Number of cores to use for the computation. The greater, the faster\n",
    "num_samples = 50  # Number of molecules to randomly pick from the datasets\n",
    "\n",
    "random.seed(2022)"
   ],
   "metadata": {
    "collapsed": false
   }
  },
  {
   "cell_type": "markdown",
   "source": [
    "### Downloads\n",
    "First, we need to choose the trained model to use. **We can use the model we trained, or the one paper's writers used to get their results.\n",
    "\n",
    "But for the latter, we need to download it."
   ],
   "metadata": {
    "collapsed": false
   }
  },
  {
   "cell_type": "code",
   "execution_count": 4,
   "outputs": [
    {
     "name": "stdout",
     "output_type": "stream",
     "text": [
      "original_checkpoints is already present, no need to compute it\n",
      "<class 'synnet.models.mlp.MLP'>\n"
     ]
    }
   ],
   "source": [
    "original_checkpoints = get_original_checkpoints(project_root)"
   ],
   "metadata": {
    "collapsed": false
   }
  },
  {
   "cell_type": "markdown",
   "source": [],
   "metadata": {
    "collapsed": false
   }
  },
  {
   "cell_type": "code",
   "execution_count": 4,
   "outputs": [
    {
     "name": "stdout",
     "output_type": "stream",
     "text": [
      "ChEMBL is already present, no need to compute it\n"
     ]
    }
   ],
   "source": [
    "chembl_smiles = get_chembl_dataset(project_root, num_samples)"
   ],
   "metadata": {
    "collapsed": false
   }
  },
  {
   "cell_type": "markdown",
   "source": [
    "Now, we need to retrieve the building blocks. We asked the company to provide them, that way we can correctly reproduce their result"
   ],
   "metadata": {
    "collapsed": false
   }
  },
  {
   "cell_type": "code",
   "execution_count": 5,
   "outputs": [
    {
     "name": "stdout",
     "output_type": "stream",
     "text": [
      "building_blocks is already present, no need to compute it\n"
     ]
    }
   ],
   "source": [
    "bblocks_raw = get_building_blocks(project_root)"
   ],
   "metadata": {
    "collapsed": false
   }
  },
  {
   "cell_type": "markdown",
   "source": [
    "We also need to download the molecules we want to test the model on"
   ],
   "metadata": {
    "collapsed": false
   }
  },
  {
   "cell_type": "code",
   "execution_count": 6,
   "outputs": [
    {
     "name": "stdout",
     "output_type": "stream",
     "text": [
      "ZINC is already present, no need to compute it\n"
     ]
    }
   ],
   "source": [
    "zinc_smiles = get_zinc_dataset(project_root, num_samples)"
   ],
   "metadata": {
    "collapsed": false
   }
  },
  {
   "cell_type": "markdown",
   "source": [
    "### Process Building Blocks"
   ],
   "metadata": {
    "collapsed": false
   }
  },
  {
   "cell_type": "markdown",
   "source": [
    "### Filter Building Blocks\n",
    "We pre-process the building blocks to identify applicable reactants for each reaction template. In other words, filter out all building blocks that do not match any reaction template. There is no need to keep them, as they cannot act as reactant.\n",
    "\n",
    "In a first step, we match all building blocks with each reaction template.\n",
    "In a second step, we save all matched building blocks and a collection of `Reactions` with their available building blocks."
   ],
   "metadata": {
    "collapsed": false
   }
  },
  {
   "cell_type": "code",
   "execution_count": 7,
   "outputs": [
    {
     "name": "stdout",
     "output_type": "stream",
     "text": [
      "filtered building blocks is already present, no need to compute it\n",
      "rections is already present, no need to compute it\n"
     ]
    }
   ],
   "source": [
    "bblocks, rxn_collection = filter_bblocks(project_root, bblocks_raw, cpu_cores)"
   ],
   "metadata": {
    "collapsed": false
   }
  },
  {
   "cell_type": "markdown",
   "source": [
    "### Pre-compute embeddings\n",
    "\n",
    "We use the embedding space for the building blocks a lot. Hence, we pre-compute and store the building blocks."
   ],
   "metadata": {
    "collapsed": false
   }
  },
  {
   "cell_type": "code",
   "execution_count": 8,
   "outputs": [
    {
     "name": "stdout",
     "output_type": "stream",
     "text": [
      "embeddings is already present, no need to compute it\n"
     ]
    }
   ],
   "source": [
    "mol_embedder = compute_embeddings(project_root, bblocks, cpu_cores)"
   ],
   "metadata": {
    "collapsed": false
   }
  },
  {
   "cell_type": "markdown",
   "source": [
    "# Optimization"
   ],
   "metadata": {
    "collapsed": false
   }
  },
  {
   "cell_type": "code",
   "execution_count": null,
   "outputs": [
    {
     "name": "stdout",
     "output_type": "stream",
     "text": [
      "Start.\n",
      "Data loaded\n"
     ]
    },
    {
     "name": "stderr",
     "output_type": "stream",
     "text": [
      "Downloading Oracle...\n",
      "100%|██████████| 27.8M/27.8M [00:13<00:00, 1.99MiB/s]\n",
      "Done!\n"
     ]
    },
    {
     "name": "stdout",
     "output_type": "stream",
     "text": [
      "Initial: 0.010 +/- 0.006\n",
      "Scores: [0.02 0.01 0.01 0.01 0.  ]\n",
      "Top-3 Smiles: ['O=C(c1ccccc1)c1ccc(CBr)cc1', 'O=Cc1ccc(Cl)cc1OCc1cc(Cl)c(Br)c(Cl)c1', 'Cc1cc(C2CCCN2C(=O)c2c(C)noc2C2CC2)on1']\n",
      "Starting generation 0\n"
     ]
    }
   ],
   "source": [
    "optimize(\n",
    "    zinc_smiles[:5], # 5 samples\n",
    "    bblocks,\n",
    "    rxn_collection,\n",
    "    original_checkpoints,\n",
    "    mol_embedder,\n",
    "    project_root / \"reproducibility\" / \"results\" / \"optimize\" / \"zinc\",\n",
    "    nbits=4096,\n",
    "    num_gen=2,\n",
    "    objective=\"gsk\",\n",
    "    rxn_template=\"hb\",\n",
    "    num_offspring=128,\n",
    "    cpu_cores=cpu_cores\n",
    ")"
   ],
   "metadata": {
    "collapsed": false,
    "pycharm": {
     "is_executing": true
    }
   }
  },
  {
   "cell_type": "code",
   "execution_count": null,
   "outputs": [],
   "source": [
    "optimize(\n",
    "    chembl_smiles[:5], # 5 samples\n",
    "    bblocks,\n",
    "    rxn_collection,\n",
    "    original_checkpoints,\n",
    "    mol_embedder,\n",
    "    project_root / \"reproducibility\" / \"results\" / \"optimize\" / \"chembl\",\n",
    "    nbits=4096,\n",
    "    num_gen=2,\n",
    "    objective=\"gsk\",\n",
    "    rxn_template=\"hb\",\n",
    "    num_offspring=128,\n",
    "    cpu_cores=cpu_cores\n",
    ")"
   ],
   "metadata": {
    "collapsed": false,
    "pycharm": {
     "is_executing": true
    }
   }
  }
 ],
 "metadata": {
  "kernelspec": {
   "display_name": "Python 3",
   "language": "python",
   "name": "python3"
  },
  "language_info": {
   "codemirror_mode": {
    "name": "ipython",
    "version": 2
   },
   "file_extension": ".py",
   "mimetype": "text/x-python",
   "name": "python",
   "nbconvert_exporter": "python",
   "pygments_lexer": "ipython2",
   "version": "2.7.6"
  }
 },
 "nbformat": 4,
 "nbformat_minor": 0
}
