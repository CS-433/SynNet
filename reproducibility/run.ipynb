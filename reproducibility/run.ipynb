{
 "cells": [
  {
   "cell_type": "markdown",
   "metadata": {
    "collapsed": false
   },
   "source": [
    "# Model Usage\n",
    "This notebook goes through the whole process to use the optimized model and produce the synthesis planning and optimization of the molecules."
   ]
  },
  {
   "cell_type": "markdown",
   "metadata": {
    "collapsed": false
   },
   "source": [
    "## Environment Setup\n",
    "First of all, we need to make sure that the notebook is running in the correct environment.\n",
    "\n",
    "To do that, follow these steps:\n",
    " 1. Create the project's environment\n",
    "    To do that, place yourself in the project's root, and run :\n",
    "    `conda env create -f environment.yml`\n",
    "    This creates a new clean conda environment with the package needed by the project.\n",
    " 2. Activate the environment\n",
    "    On Linux and Mac:\n",
    "    `source activate synnet`\n",
    "    On Windows:\n",
    "    `conda activate synnet`\n",
    " 3. Install the project's module\n",
    "    Now that the environment is activated, we need to install the project as a module.\n",
    "    Place yourself in the project's root and run :\n",
    "    `pip install -e .`\n",
    " 4. Restart Jupyter from the new environment\n",
    "    Now, we can start Jupyter from the environment, that way it has all the dependencies we need. Simply run `jupyter notebook` and open this notebook.\n",
    "\n",
    "To test the setup, run the following cell."
   ]
  },
  {
   "cell_type": "code",
   "execution_count": null,
   "metadata": {
    "collapsed": false
   },
   "outputs": [],
   "source": [
    "import sys\n",
    "\n",
    "from helpers import paths\n",
    "\n",
    "# Check that the correct conda env is being used\n",
    "if sys.prefix.split(\"\\\\\")[-1] != \"synnet\":\n",
    "    print(\n",
    "        \"You are not using the correct conda environment, please follow the instructions above\"\n",
    "    )\n",
    "else:\n",
    "    try:\n",
    "        import synnet\n",
    "\n",
    "        print(\"The environment is setup correctly\")\n",
    "    except ImportError:\n",
    "        print(\n",
    "            \"The module 'synnet' is not installed, please follow the instructions above\"\n",
    "        )"
   ]
  },
  {
   "cell_type": "markdown",
   "metadata": {
    "collapsed": false
   },
   "source": [
    "## Pre-Processing\n",
    "\n",
    "Now that the conda environment is correctly setup, we can start the preliminary steps to produce the synthesis results.\n",
    "\n",
    "First, let's import some packages, define some constants.\n",
    "Make sure they are correct."
   ]
  },
  {
   "cell_type": "code",
   "execution_count": null,
   "metadata": {
    "collapsed": false
   },
   "outputs": [],
   "source": [
    "from helpers.loader import *\n",
    "from helpers.preprocessor import *\n",
    "from helpers.synthesis import synthesis\n",
    "from helpers.optimize import optimize\n",
    "\n",
    "# Number of cores to use for the computation. The greater, the faster\n",
    "cpu_cores = 20\n",
    "# Number of molecules to randomly pick from the datasets.\n",
    "# Our results were made with a sample of 10000\n",
    "num_samples = 10000\n",
    "# Seed to use to sample the datasets\n",
    "seed = 42"
   ]
  },
  {
   "cell_type": "markdown",
   "metadata": {
    "collapsed": false
   },
   "source": [
    "### Load data\n",
    "First, we need to choose the trained model to use.\n",
    "\n",
    "For now, we only have the one provided by the paper's authors"
   ]
  },
  {
   "cell_type": "code",
   "execution_count": null,
   "metadata": {
    "collapsed": false
   },
   "outputs": [],
   "source": [
    "original_checkpoints = get_original_checkpoints()"
   ]
  },
  {
   "cell_type": "markdown",
   "metadata": {
    "collapsed": false
   },
   "source": [
    "And the model we trained"
   ]
  },
  {
   "cell_type": "code",
   "execution_count": null,
   "metadata": {
    "collapsed": false
   },
   "outputs": [],
   "source": [
    "trained_checkpoints = get_trained_checkpoints()"
   ]
  },
  {
   "cell_type": "markdown",
   "metadata": {
    "collapsed": false
   },
   "source": [
    "Now, we need to retrieve the building blocks. We asked the company to provide them, that way we can correctly reproduce their result\n",
    "\n",
    "To simplify the workflow, this also perform the step 0 described in INSTRUCTIONS.md"
   ]
  },
  {
   "cell_type": "code",
   "execution_count": null,
   "metadata": {
    "collapsed": false
   },
   "outputs": [],
   "source": [
    "bblocks_raw = get_building_blocks()"
   ]
  },
  {
   "cell_type": "markdown",
   "metadata": {
    "collapsed": false
   },
   "source": [
    "We also need to download the molecules we want to test the model on.\n",
    "\n",
    "We will use three datasets :\n",
    " - the reachable molecules\n",
    " - the ZINC dataset\n",
    "  - the ChEMBL dataset"
   ]
  },
  {
   "cell_type": "code",
   "execution_count": null,
   "metadata": {
    "collapsed": false
   },
   "outputs": [],
   "source": [
    "# Our reachable set is generated using a sample size of 10000 and a seed of 42\n",
    "reachable_smiles = get_reachable_dataset(num_samples, seed)\n",
    "zinc_smiles = get_zinc_dataset(num_samples, seed)\n",
    "chembl_smiles = get_chembl_dataset(num_samples, seed)"
   ]
  },
  {
   "cell_type": "markdown",
   "metadata": {
    "collapsed": false
   },
   "source": [
    "## Process Building Blocks"
   ]
  },
  {
   "cell_type": "markdown",
   "metadata": {
    "collapsed": false
   },
   "source": [
    "### Filter Building Blocks\n",
    "First, we apply the step 1 from INSTRUCTION.md\n",
    "\n",
    "We pre-process the building blocks to identify applicable reactants for each reaction template. In other words, filter out all building blocks that do not match any reaction template. There is no need to keep them, as they cannot act as reactant.\n",
    "\n",
    "In a first step, we match all building blocks with each reaction template.\n",
    "In a second step, we save all matched building blocks and a collection of `Reactions` with their available building blocks."
   ]
  },
  {
   "cell_type": "code",
   "execution_count": null,
   "metadata": {
    "collapsed": false
   },
   "outputs": [],
   "source": [
    "bblocks, rxn_collection = filter_bblocks(bblocks_raw)"
   ]
  },
  {
   "cell_type": "markdown",
   "metadata": {
    "collapsed": false
   },
   "source": [
    "### Pre-compute embeddings\n",
    "Then, step 2\n",
    "\n",
    "We use the embedding space for the building blocks a lot. Hence, we pre-compute and store the building blocks."
   ]
  },
  {
   "cell_type": "code",
   "execution_count": null,
   "metadata": {
    "collapsed": false
   },
   "outputs": [],
   "source": [
    "mol_embedder = compute_embeddings(bblocks, cpu_cores)"
   ]
  },
  {
   "cell_type": "markdown",
   "metadata": {
    "collapsed": false
   },
   "source": [
    "# Synthesis\n",
    "\n",
    "Now that everything is loaded and pre-processed, we can do the synthesis prediction.\n",
    "\n",
    "First, we compute synthetic trees for the reachable smiles, both on the original and the trained checkpoints"
   ]
  },
  {
   "cell_type": "code",
   "execution_count": null,
   "metadata": {
    "collapsed": false
   },
   "outputs": [],
   "source": [
    "synthesis(\n",
    "    reachable_smiles,\n",
    "    bblocks,\n",
    "    original_checkpoints,\n",
    "    rxn_collection,\n",
    "    mol_embedder,\n",
    "    paths.synthesis_result_path(\"reachable\", \"original\"),\n",
    "    rxn_template=\"hb\",\n",
    "    n_bits=4096,\n",
    "    beam_width=3,\n",
    "    max_step=15,\n",
    "    cpu_cores=cpu_cores,\n",
    ")"
   ]
  },
  {
   "cell_type": "code",
   "execution_count": null,
   "metadata": {
    "collapsed": false
   },
   "outputs": [],
   "source": [
    "synthesis(\n",
    "    reachable_smiles,\n",
    "    bblocks,\n",
    "    trained_checkpoints,\n",
    "    rxn_collection,\n",
    "    mol_embedder,\n",
    "    paths.synthesis_result_path(\"reachable\", \"trained\"),\n",
    "    rxn_template=\"hb\",\n",
    "    n_bits=4096,\n",
    "    beam_width=3,\n",
    "    max_step=15,\n",
    "    cpu_cores=cpu_cores,\n",
    ")"
   ]
  },
  {
   "cell_type": "markdown",
   "metadata": {
    "collapsed": false
   },
   "source": [
    "Compute synthetic trees for the ZINC dataset, both on the original and the trained checkpoints"
   ]
  },
  {
   "cell_type": "code",
   "execution_count": null,
   "metadata": {
    "collapsed": false
   },
   "outputs": [],
   "source": [
    "synthesis(\n",
    "    zinc_smiles,\n",
    "    bblocks,\n",
    "    original_checkpoints,\n",
    "    rxn_collection,\n",
    "    mol_embedder,\n",
    "    paths.synthesis_result_path(\"zinc\", \"original\"),\n",
    "    rxn_template=\"hb\",\n",
    "    n_bits=4096,\n",
    "    beam_width=3,\n",
    "    max_step=15,\n",
    "    cpu_cores=cpu_cores,\n",
    ")"
   ]
  },
  {
   "cell_type": "code",
   "execution_count": null,
   "metadata": {
    "collapsed": false
   },
   "outputs": [],
   "source": [
    "synthesis(\n",
    "    zinc_smiles,\n",
    "    bblocks,\n",
    "    trained_checkpoints,\n",
    "    rxn_collection,\n",
    "    mol_embedder,\n",
    "    paths.synthesis_result_path(\"zinc\", \"trained\"),\n",
    "    rxn_template=\"hb\",\n",
    "    n_bits=4096,\n",
    "    beam_width=3,\n",
    "    max_step=15,\n",
    "    cpu_cores=cpu_cores,\n",
    ")"
   ]
  },
  {
   "cell_type": "markdown",
   "metadata": {
    "collapsed": false
   },
   "source": [
    "Compute synthetic trees for the ChEMBL dataset"
   ]
  },
  {
   "cell_type": "code",
   "execution_count": null,
   "metadata": {
    "collapsed": false
   },
   "outputs": [],
   "source": [
    "synthesis(\n",
    "    chembl_smiles,\n",
    "    bblocks,\n",
    "    original_checkpoints,\n",
    "    rxn_collection,\n",
    "    mol_embedder,\n",
    "    paths.synthesis_result_path(\"chembl\", \"original\"),\n",
    "    rxn_template=\"hb\",\n",
    "    n_bits=4096,\n",
    "    beam_width=3,\n",
    "    max_step=15,\n",
    "    cpu_cores=cpu_cores,\n",
    ")"
   ]
  },
  {
   "cell_type": "code",
   "execution_count": null,
   "metadata": {
    "collapsed": false
   },
   "outputs": [],
   "source": [
    "synthesis(\n",
    "    chembl_smiles,\n",
    "    bblocks,\n",
    "    trained_checkpoints,\n",
    "    rxn_collection,\n",
    "    mol_embedder,\n",
    "    paths.synthesis_result_path(\"chembl\", \"trained\"),\n",
    "    rxn_template=\"hb\",\n",
    "    n_bits=4096,\n",
    "    beam_width=3,\n",
    "    max_step=15,\n",
    "    cpu_cores=cpu_cores,\n",
    ")"
   ]
  },
  {
   "cell_type": "markdown",
   "metadata": {},
   "source": [
    "## Optimization\n",
    "\n",
    "Finally, we can do the optimization step"
   ]
  },
  {
   "cell_type": "code",
   "execution_count": null,
   "metadata": {},
   "outputs": [],
   "source": [
    "optimize(\n",
    "    zinc_smiles,\n",
    "    bblocks,\n",
    "    rxn_collection,\n",
    "    original_checkpoints,\n",
    "    mol_embedder,\n",
    "    paths.optimize_result_path('zinc', 'original'),\n",
    "    nbits=4096,\n",
    "    num_gen=60,\n",
    "    objective=\"gsk\",\n",
    "    rxn_template=\"hb\",\n",
    "    num_offspring=128,\n",
    "    cpu_cores=cpu_cores,\n",
    ")"
   ]
  },
  {
   "cell_type": "code",
   "execution_count": null,
   "outputs": [],
   "source": [
    "optimize(\n",
    "    zinc_smiles,\n",
    "    bblocks,\n",
    "    rxn_collection,\n",
    "    trained_checkpoints,\n",
    "    mol_embedder,\n",
    "    paths.optimize_result_path('zinc', 'trained'),\n",
    "    nbits=4096,\n",
    "    num_gen=60,\n",
    "    objective=\"gsk\",\n",
    "    rxn_template=\"hb\",\n",
    "    num_offspring=128,\n",
    "    cpu_cores=cpu_cores,\n",
    ")"
   ],
   "metadata": {
    "collapsed": false
   }
  },
  {
   "cell_type": "code",
   "execution_count": null,
   "outputs": [],
   "source": [
    "optimize(\n",
    "    chembl_smiles,\n",
    "    bblocks,\n",
    "    rxn_collection,\n",
    "    original_checkpoints,\n",
    "    mol_embedder,\n",
    "    paths.optimize_result_path('chembl', 'original'),\n",
    "    nbits=4096,\n",
    "    num_gen=60,\n",
    "    objective=\"gsk\",\n",
    "    rxn_template=\"hb\",\n",
    "    num_offspring=128,\n",
    "    cpu_cores=cpu_cores,\n",
    ")"
   ],
   "metadata": {
    "collapsed": false
   }
  },
  {
   "cell_type": "code",
   "execution_count": null,
   "outputs": [],
   "source": [
    "optimize(\n",
    "    chembl_smiles,\n",
    "    bblocks,\n",
    "    rxn_collection,\n",
    "    trained_checkpoints,\n",
    "    mol_embedder,\n",
    "    paths.optimize_result_path('chembl', 'trained'),\n",
    "    nbits=4096,\n",
    "    num_gen=60,\n",
    "    objective=\"gsk\",\n",
    "    rxn_template=\"hb\",\n",
    "    num_offspring=128,\n",
    "    cpu_cores=cpu_cores,\n",
    ")"
   ],
   "metadata": {
    "collapsed": false
   }
  }
 ],
 "metadata": {
  "kernelspec": {
   "display_name": "Python 3.9.15 ('synnet')",
   "language": "python",
   "name": "python3"
  },
  "language_info": {
   "codemirror_mode": {
    "name": "ipython",
    "version": 3
   },
   "file_extension": ".py",
   "mimetype": "text/x-python",
   "name": "python",
   "nbconvert_exporter": "python",
   "pygments_lexer": "ipython3",
   "version": "3.9.15"
  },
  "vscode": {
   "interpreter": {
    "hash": "4c2aacb62e6b2d465adc9f7702b10567223f45b98f5bfcc8a0f9c28f90eb2f2e"
   }
  }
 },
 "nbformat": 4,
 "nbformat_minor": 0
}
