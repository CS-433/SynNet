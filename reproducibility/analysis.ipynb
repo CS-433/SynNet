{
 "cells": [
  {
   "cell_type": "markdown",
   "source": [
    "This notebook reproduces table 1 and figure 4 of the paper : Amortized Tree Generation for Bottom-up Synthesis Planning and Synthesizable Molecular Design."
   ],
   "metadata": {
    "collapsed": false
   }
  },
  {
   "cell_type": "markdown",
   "source": [
    "#### Reproducing table 1 :\n",
    "Inspired from script \"23-evaluate-predictions.py\""
   ],
   "metadata": {
    "collapsed": false
   }
  },
  {
   "cell_type": "code",
   "execution_count": null,
   "outputs": [],
   "source": [
    "from analysis import display_table1, produce_figure4\n",
    "\n",
    "# Dataframe with target- and prediction smiles and similarities (*.csv.gz).\n",
    "bblocks_original = \"../results/reachable/original/decoded_results.csv.gz\"\n",
    "chembl_original = \"../results/chembl/original/decoded_results.csv.gz\"\n",
    "zinc_original = \"../results/zinc/original/decoded_results.csv.gz\""
   ],
   "metadata": {
    "collapsed": false
   }
  },
  {
   "cell_type": "code",
   "execution_count": null,
   "outputs": [],
   "source": [
    "display_table1(bblocks_original)"
   ],
   "metadata": {
    "collapsed": false
   }
  },
  {
   "cell_type": "code",
   "execution_count": null,
   "outputs": [],
   "source": [
    "display_table1(chembl_original)"
   ],
   "metadata": {
    "collapsed": false
   }
  },
  {
   "cell_type": "code",
   "execution_count": null,
   "outputs": [],
   "source": [
    "display_table1(zinc_original)"
   ],
   "metadata": {
    "collapsed": false
   }
  },
  {
   "cell_type": "markdown",
   "source": [
    "### Reproducing figure 4 :"
   ],
   "metadata": {
    "collapsed": false
   },
   "execution_count": 6
  },
  {
   "cell_type": "markdown",
   "source": [
    "\n",
    "Compare the SA score (Synthesis Accessibility), LogP score (Octanol-water Partition Coefficient), molecular weight and QED score (Quantitative Estimate of Drug-likeness) of target and decoded molecules for the original dataset (bblocks) and ChLEMB dataset."
   ],
   "metadata": {
    "collapsed": false
   }
  },
  {
   "cell_type": "code",
   "execution_count": null,
   "outputs": [],
   "source": [
    "produce_figure4(bblocks_original, 'Reachable')"
   ],
   "metadata": {
    "collapsed": false
   }
  },
  {
   "cell_type": "code",
   "execution_count": null,
   "outputs": [],
   "source": [
    "produce_figure4(chembl_original, 'Unreachable')"
   ],
   "metadata": {
    "collapsed": false
   }
  }
 ],
 "metadata": {
  "kernelspec": {
   "name": "conda-env-synnet-py",
   "language": "python",
   "display_name": "Python [conda env:synnet] *"
  },
  "language_info": {
   "codemirror_mode": {
    "name": "ipython",
    "version": 2
   },
   "file_extension": ".py",
   "mimetype": "text/x-python",
   "name": "python",
   "nbconvert_exporter": "python",
   "pygments_lexer": "ipython2",
   "version": "2.7.6"
  }
 },
 "nbformat": 4,
 "nbformat_minor": 0
}
