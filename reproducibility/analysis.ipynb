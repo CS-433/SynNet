{
 "cells": [
  {
   "cell_type": "markdown",
   "source": [
    "This notebook reproduces table 1 and figure 4 of the paper : Amortized Tree Generation for Bottom-up Synthesis Planning and Synthesizable Molecular Design."
   ],
   "metadata": {
    "collapsed": false
   }
  },
  {
   "cell_type": "markdown",
   "source": [
    "#### Reproducing table 1 :"
   ],
   "metadata": {
    "collapsed": false
   }
  },
  {
   "cell_type": "code",
   "execution_count": null,
   "outputs": [],
   "source": [
    "from helpers.analysis import display_table1, produce_figure4\n",
    "from helpers import paths\n",
    "\n",
    "# Path to dataframe with target- and prediction smiles and similarities (*.csv.gz).\n",
    "reachable_original = paths.synthesis_result_csv(\"reachable\", \"original\")\n",
    "chembl_original = paths.synthesis_result_csv(\"chembl\", \"original\")\n",
    "zinc_original = paths.synthesis_result_csv(\"zinc\", \"original\")\n",
    "\n",
    "reachable_trained = paths.synthesis_result_csv(\"reachable\", \"trained\")\n",
    "chembl_trained = paths.synthesis_result_csv(\"chembl\", \"trained\")\n",
    "zinc_trained = paths.synthesis_result_csv(\"zinc\", \"trained\")"
   ],
   "metadata": {
    "collapsed": false
   }
  },
  {
   "cell_type": "markdown",
   "source": [
    "Compute metrics used to produce table1"
   ],
   "metadata": {
    "collapsed": false
   }
  },
  {
   "cell_type": "code",
   "execution_count": null,
   "outputs": [],
   "source": [
    "display_table1(reachable_original,\"Test set (original)\")"
   ],
   "metadata": {
    "collapsed": false
   }
  },
  {
   "cell_type": "code",
   "execution_count": null,
   "outputs": [],
   "source": [
    "display_table1(chembl_original, \"ChEMBL (original)\")"
   ],
   "metadata": {
    "collapsed": false
   }
  },
  {
   "cell_type": "code",
   "execution_count": null,
   "outputs": [],
   "source": [
    "display_table1(zinc_original,\"Zinc (original)\")"
   ],
   "metadata": {
    "collapsed": false
   }
  },
  {
   "cell_type": "code",
   "execution_count": null,
   "outputs": [],
   "source": [
    "display_table1(reachable_trained,\"Test set (trained)\")"
   ],
   "metadata": {
    "collapsed": false
   }
  },
  {
   "cell_type": "code",
   "execution_count": null,
   "outputs": [],
   "source": [
    "display_table1(chembl_trained,\"ChEMBL (trained)\")"
   ],
   "metadata": {
    "collapsed": false
   }
  },
  {
   "cell_type": "code",
   "execution_count": null,
   "outputs": [],
   "source": [
    "display_table1(zinc_trained,\"Zinc (trained)\")"
   ],
   "metadata": {
    "collapsed": false
   }
  },
  {
   "cell_type": "markdown",
   "source": [
    "### Reproducing figure 4 :"
   ],
   "metadata": {
    "collapsed": false
   },
   "execution_count": 6
  },
  {
   "cell_type": "markdown",
   "source": [
    "\n",
    "Compare the SA score (Synthesis Accessibility), LogP score (Octanol-water Partition Coefficient), molecular weight and QED score (Quantitative Estimate of Drug-likeness) of target and decoded molecules for the original dataset (bblocks) and ChLEMB dataset."
   ],
   "metadata": {
    "collapsed": false
   }
  },
  {
   "cell_type": "code",
   "execution_count": null,
   "outputs": [],
   "source": [
    "produce_figure4(reachable_trained, \"Reachable\")"
   ],
   "metadata": {
    "collapsed": false
   }
  },
  {
   "cell_type": "code",
   "execution_count": null,
   "outputs": [],
   "source": [
    "produce_figure4(chembl_trained, \"Unreachable\")"
   ],
   "metadata": {
    "collapsed": false
   }
  },
  {
   "cell_type": "code",
   "execution_count": null,
   "outputs": [],
   "source": [
    "produce_figure4(zinc_trained, \"Zinc (Trained)\")"
   ],
   "metadata": {
    "collapsed": false
   }
  },
  {
   "cell_type": "code",
   "execution_count": null,
   "outputs": [],
   "source": [
    "produce_figure4(reachable_original, \"Reachable (Original)\")"
   ],
   "metadata": {
    "collapsed": false
   }
  },
  {
   "cell_type": "code",
   "execution_count": null,
   "outputs": [],
   "source": [
    "produce_figure4(chembl_original, \"ChEMBL (Original)\")"
   ],
   "metadata": {
    "collapsed": false
   }
  },
  {
   "cell_type": "code",
   "execution_count": null,
   "outputs": [],
   "source": [
    "produce_figure4(zinc_original, \"Zinc (Original)\")"
   ],
   "metadata": {
    "collapsed": false
   }
  }
 ],
 "metadata": {
  "kernelspec": {
   "name": "conda-env-synnet-py",
   "language": "python",
   "display_name": "Python [conda env:synnet] *"
  },
  "language_info": {
   "codemirror_mode": {
    "name": "ipython",
    "version": 2
   },
   "file_extension": ".py",
   "mimetype": "text/x-python",
   "name": "python",
   "nbconvert_exporter": "python",
   "pygments_lexer": "ipython2",
   "version": "2.7.6"
  }
 },
 "nbformat": 4,
 "nbformat_minor": 0
}
