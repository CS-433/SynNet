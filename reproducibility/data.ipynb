{
 "cells": [
  {
   "cell_type": "markdown",
   "metadata": {},
   "source": [
    "## Data generation and analysis"
   ]
  },
  {
   "cell_type": "markdown",
   "metadata": {},
   "source": [
    "This notebook analyzes the data used for training the models."
   ]
  },
  {
   "cell_type": "markdown",
   "metadata": {},
   "source": [
    "### Tree generation and splitting"
   ]
  },
  {
   "cell_type": "markdown",
   "metadata": {},
   "source": [
    "Synthetic trees describe the chemical synthesis of one molecule. These data are key because they are fed to the model, determining its accuracy. First, we download the filtered synthetic trees sets. These files contain around 450000 synthetic trees that have been generated using script 03 (03-generate-synthetic trees) and filtered using script 04 (04-filter-trees) to obtain trees containing drug-like molecule roots."
   ]
  },
  {
   "cell_type": "code",
   "execution_count": null,
   "metadata": {},
   "outputs": [],
   "source": [
    "import random\n",
    "import pandas as pd\n",
    "import matplotlib.pyplot as plt\n",
    "from rdkit import Chem\n",
    "from rdkit.Chem.Descriptors import MolWt\n",
    "from downloader import get_filtered_syntrees"
   ]
  },
  {
   "cell_type": "markdown",
   "metadata": {},
   "source": [
    "Load each set and check number of trees contained."
   ]
  },
  {
   "cell_type": "code",
   "execution_count": null,
   "metadata": {},
   "outputs": [],
   "source": [
    "trees_dict = get_filtered_syntrees()\n",
    "\n",
    "train = trees_dict[\"train\"]\n",
    "test = trees_dict[\"test\"]\n",
    "syntrees = trees_dict.items()\n",
    "\n",
    "print(\"Loaded content :\\n\")\n",
    "\n",
    "for name, trees in syntrees:\n",
    "    print(f\"{name} set contains {len(trees)} trees\")"
   ]
  },
  {
   "cell_type": "markdown",
   "metadata": {},
   "source": [
    "A synthetic tree is formed by a dictionary containing different keys: reactions, chemicals, depth, actions and rxn_id2type. By analyzing feature distribution on each tree set, we can check if all sets have the same data distribution."
   ]
  },
  {
   "cell_type": "code",
   "execution_count": null,
   "metadata": {},
   "outputs": [],
   "source": [
    "# Check one tree structure\n",
    "print(train[0])"
   ]
  },
  {
   "cell_type": "markdown",
   "metadata": {},
   "source": [
    "### Data distribution"
   ]
  },
  {
   "cell_type": "markdown",
   "metadata": {},
   "source": [
    "We check tree depth distribution for each set. Tree depth determines the complexity of the synthesis (the more steps a synthesis has, the more challenging it is). Therefore, we would like to know how the different synthesis are distributed and their complexity distribution."
   ]
  },
  {
   "cell_type": "code",
   "execution_count": null,
   "metadata": {},
   "outputs": [],
   "source": [
    "# Plot tree depth frequency for each set\n",
    "fig, ax = plt.subplots(1, 3, figsize=(12, 4))\n",
    "\n",
    "for i, (name, trees) in enumerate(syntrees):\n",
    "    depth = [int(tree[\"depth\"]) for tree in trees]\n",
    "    depth = pd.Series(depth)\n",
    "    counts = depth.value_counts(normalize=True)\n",
    "    ind = counts.index\n",
    "    freq = counts.values\n",
    "\n",
    "    ax[i].bar(ind, freq)\n",
    "    ax[i].set_xlim((0, 11))\n",
    "    ax[i].set_xticks(list(range(0, 11)))\n",
    "    ax[i].set_title(name)\n",
    "\n",
    "fig.supylabel(\"frequency\")\n",
    "fig.supxlabel(\"depth\")\n",
    "fig.tight_layout()"
   ]
  },
  {
   "cell_type": "markdown",
   "metadata": {},
   "source": [
    "From these figures we can observe that the distribution is similar in the three sets. There is a predominance of depth = 1 trees"
   ]
  },
  {
   "cell_type": "markdown",
   "metadata": {},
   "source": [
    "We can also analyze how actions are distributed in all trees. Actions are also related to the synthetic pathways (for example, higher number of expand actions would mean more challenging synthesis)"
   ]
  },
  {
   "cell_type": "code",
   "execution_count": null,
   "metadata": {},
   "outputs": [],
   "source": [
    "# Plot tree action frequency for each set\n",
    "fig, ax = plt.subplots(1, 3, figsize=(12, 4))\n",
    "\n",
    "for i, (name, trees) in enumerate(syntrees):\n",
    "    actions = [tree[\"actions\"] for tree in trees]\n",
    "    actions = [act for group in actions for act in group]\n",
    "    actions = pd.Series(actions)\n",
    "    counts = actions.value_counts(normalize=True)\n",
    "    ind = counts.index\n",
    "    freq = counts.values\n",
    "    ax[i].bar(ind, freq)\n",
    "    ax[i].set_xticks(ticks=[0, 1, 2, 3], labels=[\"add\", \"expand\", \"merge\", \"end\"])\n",
    "    ax[i].set_title(name)\n",
    "\n",
    "fig.supylabel(\"Frequency\")\n",
    "fig.supxlabel(\"Action\")\n",
    "fig.tight_layout()"
   ]
  },
  {
   "cell_type": "markdown",
   "metadata": {},
   "source": [
    "We again observe the same distribution in all sets. Actions 1 and 2 have a joint frequency lower than 0.15, meaning that the majority of trees won't be branched "
   ]
  },
  {
   "cell_type": "markdown",
   "metadata": {},
   "source": [
    "Finally, we check root products (stored as SMILES in each tree). We use molar weight as an approximate measure of product complexity distribution, checking molar weight distribution for each set."
   ]
  },
  {
   "cell_type": "code",
   "execution_count": null,
   "metadata": {},
   "outputs": [],
   "source": [
    "# Plot tree action frequency for each set\n",
    "fig, ax = plt.subplots(1, 3, figsize=(12, 4))\n",
    "\n",
    "for i, (name, trees) in enumerate(syntrees):\n",
    "    smiles = [tree[\"root\"][\"smiles\"] for tree in trees]\n",
    "    mw = [MolWt(Chem.MolFromSmiles(smile)) for smile in smiles]\n",
    "\n",
    "    ax[i].hist(mw, bins=50)\n",
    "    ax[i].set_xlim(0, 1500)\n",
    "    ax[i].set_title(name)\n",
    "\n",
    "fig.supylabel(\"N molecules\")\n",
    "fig.supxlabel(\"Molar weight\")\n",
    "fig.tight_layout()"
   ]
  },
  {
   "cell_type": "markdown",
   "metadata": {},
   "source": [
    "Molar weights are similarly distributed on the three sets, showing that the majority of root molecules have a value between 250 and 500."
   ]
  },
  {
   "cell_type": "markdown",
   "metadata": {},
   "source": [
    "The previous graphs show that synthetic tree data are similar for the three sets, and therefore we can conclude that all "
   ]
  },
  {
   "cell_type": "markdown",
   "metadata": {},
   "source": [
    "Finally, we extract 10000 SMILES corresponding to root molecules of trees from the test set. These molecules will be used as a 'reachable' molecules set to reproduce the original results of the paper and to also evaluate the trained models."
   ]
  },
  {
   "cell_type": "code",
   "execution_count": null,
   "metadata": {},
   "outputs": [],
   "source": [
    "random.seed(42)\n",
    "\n",
    "smiles = [tree[\"root\"][\"smiles\"] for tree in random.sample(test, 10000)]\n",
    "\n",
    "data = pd.Series(data=smiles, name=\"smiles\")\n",
    "\n",
    "data.to_csv(\"data/reachable_molecules.csv.gz\", index=False)"
   ]
  }
 ],
 "metadata": {
  "kernelspec": {
   "display_name": "Python 3.9.15 ('synnet')",
   "language": "python",
   "name": "python3"
  },
  "language_info": {
   "codemirror_mode": {
    "name": "ipython",
    "version": 3
   },
   "file_extension": ".py",
   "mimetype": "text/x-python",
   "name": "python",
   "nbconvert_exporter": "python",
   "pygments_lexer": "ipython3",
   "version": "3.9.15"
  },
  "orig_nbformat": 4,
  "vscode": {
   "interpreter": {
    "hash": "4c2aacb62e6b2d465adc9f7702b10567223f45b98f5bfcc8a0f9c28f90eb2f2e"
   }
  }
 },
 "nbformat": 4,
 "nbformat_minor": 2
}
